{
 "cells": [
  {
   "cell_type": "code",
   "execution_count": 1,
   "id": "785f88db-5b04-4bf7-b2ab-a3aef8b0695f",
   "metadata": {},
   "outputs": [],
   "source": [
    "import urllib.request\n",
    "from bs4 import BeautifulSoup as bs\n",
    "from configparser import ConfigParser\n",
    "import psycopg2\n",
    "import pandas as pd"
   ]
  },
  {
   "cell_type": "markdown",
   "id": "4cd6155f-80f6-4b84-8ead-6312b0c2b482",
   "metadata": {},
   "source": [
    "This cell defines the psycopg connection"
   ]
  },
  {
   "cell_type": "code",
   "execution_count": 2,
   "id": "895f94a5-4f55-4fa1-92b4-162c87516cdf",
   "metadata": {},
   "outputs": [],
   "source": [
    "connection = None\n",
    "try:\n",
    "    parser = ConfigParser()\n",
    "    parser.read(\"database.ini\")\n",
    "    db = {}\n",
    "    if parser.has_section(\"postgresql\"):\n",
    "        params = parser.items(\"postgresql\")\n",
    "        for param in params:\n",
    "            db[param[0]] = param[1]\n",
    "    connection = psycopg2.connect(**db)\n",
    "    crsr = connection.cursor()\n",
    "    crsr.execute('SELECT version()')\n",
    "    crsr.close()\n",
    "except(Exception, psycopg2.DatabaseError) as error:\n",
    "    print(error)\n",
    "finally:\n",
    "    if connection is not None:\n",
    "        connection.close()"
   ]
  },
  {
   "cell_type": "markdown",
   "id": "158a9c4e-6b7e-4fdb-9844-a85c2d4f24e3",
   "metadata": {},
   "source": [
    "This cell is for all the links for the lists"
   ]
  },
  {
   "cell_type": "code",
   "execution_count": 11,
   "id": "ede83e0c-971d-407a-a7b2-a0c74156131f",
   "metadata": {},
   "outputs": [],
   "source": [
    "urls = []\n",
    "# urls.append(\"https://digitaldreamdoor.com/pages/best_rb-ballads-x.html\")\n",
    "# urls.append(\"https://digitaldreamdoor.com/pages/best_balladsddd.html\")\n",
    "# urls.append(\"https://digitaldreamdoor.com/pages/best_metal-songs-x.html\")\n",
    "# urls.append(\"https://digitaldreamdoor.com/pages/best_guitarriff-x.html\")\n",
    "# urls.append(\"https://digitaldreamdoor.com/pages/best_songs70s-x.html\")\n",
    "urls.append(\"https://digitaldreamdoor.com/pages/best_disco-songs-x.html\")\n",
    "urls.append(\"https://digitaldreamdoor.com/pages/best_undersongs-x.html\")\n",
    "urls.append(\"https://digitaldreamdoor.com/pages/best_songs-folk-rock-x.html\")\n"
   ]
  },
  {
   "cell_type": "code",
   "execution_count": 12,
   "id": "283ee516-1f36-439d-951e-4834e074d2ce",
   "metadata": {},
   "outputs": [
    {
     "name": "stdout",
     "output_type": "stream",
     "text": [
      "list doesn't exist\n",
      "list doesn't exist\n",
      "list doesn't exist\n"
     ]
    },
    {
     "ename": "IndexError",
     "evalue": "list index out of range",
     "output_type": "error",
     "traceback": [
      "\u001b[0;31m---------------------------------------------------------------------------\u001b[0m",
      "\u001b[0;31mIndexError\u001b[0m                                Traceback (most recent call last)",
      "Cell \u001b[0;32mIn[12], line 52\u001b[0m\n\u001b[1;32m     50\u001b[0m title \u001b[38;5;241m=\u001b[39m row[\u001b[38;5;124m\"\u001b[39m\u001b[38;5;124mTitle\u001b[39m\u001b[38;5;124m\"\u001b[39m]\u001b[38;5;241m.\u001b[39msplit(\u001b[38;5;124m'\u001b[39m\u001b[38;5;124m. \u001b[39m\u001b[38;5;124m'\u001b[39m)\n\u001b[1;32m     51\u001b[0m song_rank \u001b[38;5;241m=\u001b[39m title[\u001b[38;5;241m0\u001b[39m]\n\u001b[0;32m---> 52\u001b[0m song_name \u001b[38;5;241m=\u001b[39m title[\u001b[38;5;241m1\u001b[39m]\n\u001b[1;32m     53\u001b[0m song_query \u001b[38;5;241m=\u001b[39m \u001b[38;5;124m\"\u001b[39m\u001b[38;5;124mSELECT SongID FROM SONG WHERE NAME LIKE \u001b[39m\u001b[38;5;132;01m%s\u001b[39;00m\u001b[38;5;124m\"\u001b[39m\n\u001b[1;32m     54\u001b[0m crsr\u001b[38;5;241m.\u001b[39mexecute(song_query, (song_name,))\n",
      "\u001b[0;31mIndexError\u001b[0m: list index out of range"
     ]
    }
   ],
   "source": [
    "for url in urls:\n",
    "    page = urllib.request.urlopen(url)\n",
    "    soup = bs(page)\n",
    "    \n",
    "    connection = psycopg2.connect(**db)\n",
    "    crsr = connection.cursor() \n",
    "    \n",
    "\n",
    "    list_name = soup.title.get_text()\n",
    "    list_count = list_name.split(' ')[0]\n",
    "    list_id = None\n",
    "    crsr.execute(f\"SELECT * FROM LIST WHERE NAME LIKE '{list_name}'\")\n",
    "    if len(crsr.fetchall()) == 0:\n",
    "        print(\"list doesn't exist\")\n",
    "        crsr.execute(f\"INSERT INTO LIST(NAME, COUNT) VALUES('{list_name}', '{list_count}')\")\n",
    "        connection.commit()\n",
    "    crsr.execute(f\"SELECT * FROM LIST WHERE NAME LIKE '{list_name}'\")\n",
    "    list_id = crsr.fetchone()[0]\n",
    "\n",
    "\n",
    "    data = []\n",
    "    divs = soup.findAll('div', class_='list')\n",
    "    \n",
    "    for i, div in enumerate(divs):\n",
    "      songs = div.get_text(separator='').split('\\n')\n",
    "      cleaned_songs = [song.strip() for song in songs if song.strip()]\n",
    "    \n",
    "      for song in cleaned_songs:\n",
    "        number_title_artist = song.split(' - ')\n",
    "        if len(number_title_artist) == 2:\n",
    "          title, artist = number_title_artist\n",
    "          data.append({'Title': title, 'Artist': artist})\n",
    "    df = pd.DataFrame(data)\n",
    "    \n",
    "\n",
    "    for index, row in df.iterrows():\n",
    "        artist = row[\"Artist\"]\n",
    "        query = \"SELECT artistid FROM ARTIST WHERE name LIKE %s\"\n",
    "        crsr.execute(query, (artist,))\n",
    "        artist_id = crsr.fetchone()  \n",
    "        if artist_id is None:\n",
    "            insert_query = \"INSERT INTO ARTIST (name) VALUES (%s)\"\n",
    "            crsr.execute(insert_query, (artist,))\n",
    "            crsr.execute(query, (artist,))  \n",
    "            artist_id = crsr.fetchone()[0]\n",
    "        else:\n",
    "            artist_id = artist_id[0]\n",
    "            \n",
    "            \n",
    "        title = row[\"Title\"].split('. ')\n",
    "        song_rank = title[0]\n",
    "        song_name = title[1]\n",
    "        song_query = \"SELECT SongID FROM SONG WHERE NAME LIKE %s\"\n",
    "        crsr.execute(song_query, (song_name,))\n",
    "        song_id = crsr.fetchone()\n",
    "        \n",
    "        if song_id is None:\n",
    "            query_song_insert = \"INSERT INTO SONG(ARTISTID, NAME) VALUES (%s, %s)\"\n",
    "            crsr.execute(query_song_insert, (artist_id, song_name))\n",
    "            crsr.execute(song_query, (song_name,))\n",
    "            song_id = crsr.fetchone()[0]\n",
    "        else:\n",
    "            song_id = song_id[0]\n",
    "        \n",
    "        crsr.execute(f\"SELECT Song_ListID FROM Song_List WHERE SongID = %s AND ListID = %s\", (song_id, list_id))\n",
    "        song_list_id = crsr.fetchone()\n",
    "        if song_list_id is None:\n",
    "            crsr.execute(f\"INSERT INTO Song_List(SongID, ListID, Ranking) VALUES (%s, %s, %s)\", (song_id, list_id, song_rank))\n",
    "        \n",
    "        connection.commit()\n",
    "        "
   ]
  },
  {
   "cell_type": "code",
   "execution_count": 5,
   "id": "0f5b9dc1-0172-44ab-b6b4-7af4f05b6ce8",
   "metadata": {},
   "outputs": [],
   "source": [
    "    crsr.close()\n",
    "    connection.close()"
   ]
  },
  {
   "cell_type": "code",
   "execution_count": null,
   "id": "4fbe2be1-f85b-47cb-b903-39f616cc4737",
   "metadata": {},
   "outputs": [],
   "source": []
  }
 ],
 "metadata": {
  "kernelspec": {
   "display_name": "Python 3 (ipykernel)",
   "language": "python",
   "name": "python3"
  },
  "language_info": {
   "codemirror_mode": {
    "name": "ipython",
    "version": 3
   },
   "file_extension": ".py",
   "mimetype": "text/x-python",
   "name": "python",
   "nbconvert_exporter": "python",
   "pygments_lexer": "ipython3",
   "version": "3.12.4"
  }
 },
 "nbformat": 4,
 "nbformat_minor": 5
}
