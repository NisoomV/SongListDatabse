{
 "cells": [
  {
   "cell_type": "code",
   "execution_count": 1,
   "id": "785f88db-5b04-4bf7-b2ab-a3aef8b0695f",
   "metadata": {},
   "outputs": [
    {
     "name": "stdout",
     "output_type": "stream",
     "text": [
      "                             Title              Artist\n",
      "0                       1. Imagine         John Lennon\n",
      "1    2. Bridge Over Troubled Water   Simon & Garfunkel\n",
      "2                     3. Let It Be             Beatles\n",
      "3                        4. Crying         Roy Orbison\n",
      "4              5. Unchained Melody  Righteous Brothers\n",
      "..                             ...                 ...\n",
      "195                   196. Changes       Black Sabbath\n",
      "196     197. When The Children Cry          White Lion\n",
      "197        198. Right By Your Side        Enuff Z'Nuff\n",
      "198       199. The Ballad Of Jayne           L.A. Guns\n",
      "199     200. Ballad of Spider John       Jimmy Buffett\n",
      "\n",
      "[200 rows x 2 columns]\n"
     ]
    }
   ],
   "source": [
    "import urllib.request\n",
    "from bs4 import BeautifulSoup as bs\n",
    "import re\n",
    "import pandas as pd\n",
    "\n",
    "page = urllib.request.urlopen(\"https://digitaldreamdoor.com/pages/best_balladsddd.html\")\n",
    "soup = bs(page)\n",
    "\n",
    "data = []\n",
    "divs = soup.findAll('div', class_='list')\n",
    "\n",
    "for i, div in enumerate(divs):\n",
    "  songs = div.get_text(separator='').split('\\n')\n",
    "  cleaned_songs = [song.strip() for song in songs if song.strip()]\n",
    "\n",
    "  for song in cleaned_songs:\n",
    "    number_title_artist = song.split(' - ')\n",
    "    if len(number_title_artist) == 2:\n",
    "      title, artist = number_title_artist\n",
    "      data.append({'Title': title, 'Artist': artist})\n",
    "\n",
    "df = pd.DataFrame(data)\n",
    "\n",
    "print(df)\n",
    "\n"
   ]
  },
  {
   "cell_type": "code",
   "execution_count": null,
   "id": "d26eb624-87ec-4c1d-be9e-ff155c6a11e7",
   "metadata": {},
   "outputs": [],
   "source": []
  }
 ],
 "metadata": {
  "kernelspec": {
   "display_name": "Python 3 (ipykernel)",
   "language": "python",
   "name": "python3"
  },
  "language_info": {
   "codemirror_mode": {
    "name": "ipython",
    "version": 3
   },
   "file_extension": ".py",
   "mimetype": "text/x-python",
   "name": "python",
   "nbconvert_exporter": "python",
   "pygments_lexer": "ipython3",
   "version": "3.12.4"
  }
 },
 "nbformat": 4,
 "nbformat_minor": 5
}
